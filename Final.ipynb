{
 "cells": [
  {
   "cell_type": "markdown",
   "metadata": {},
   "source": [
    "# ORIE 5380 Final Project\n",
    "## by Chenyang Yan(cy477)"
   ]
  },
  {
   "cell_type": "code",
   "execution_count": 1,
   "metadata": {},
   "outputs": [],
   "source": [
    "from ortools.linear_solver import pywraplp\n",
    "import numpy as np\n",
    "import pandas as pd\n",
    "import math"
   ]
  },
  {
   "cell_type": "markdown",
   "metadata": {},
   "source": [
    "# 1. Formulation of the problem\n",
    "\n",
    "The problem ask us to meet the requirements of the dose and since the radiation can hurt body, we should use less beamlets as possible. Problem provides us with the dose matrix which gives the dose delivered to each voxel from each beamlet when one unit of that beamlet is used. Beamlets are from 1 to 60. Voxels are from 1 to 400. I then use the index to remember the position of different regions as below."
   ]
  },
  {
   "cell_type": "code",
   "execution_count": 2,
   "metadata": {},
   "outputs": [],
   "source": [
    "DoseMatrix = pd.read_excel(\"DoseMatrix.xlsx\")"
   ]
  },
  {
   "cell_type": "code",
   "execution_count": 3,
   "metadata": {},
   "outputs": [],
   "source": [
    "# Based on the VisualDemo, list the postion of each region\n",
    "right_femur = [103,104,122,123,124,125,142,143,144,145,162,163,164,165,\n",
    "               182,183,184,185,202,203,204,205,222,223,224,225,243,244]\n",
    "# Left femur has the same size as right femur but move rightward for 13 voxels\n",
    "left_femur = [i + 14 for i in right_femur]\n",
    "bladder = [87,88,89,90,91,92,93,94,107,108,109,110,111,112,113,114,115,\n",
    "           127,128,129,130,131,132,133,134,135,147,148,149,150,151,152,153,154]\n",
    "# CTV has the same size as bladder but just moving 4 lines down\n",
    "ctv = [i + 80 for i in bladder]\n",
    "rectal_solid = [248,249,250,251,252,253,268,269,270,271,272,273,274,\n",
    "               288,289,290,291,292,293,294,308,309,310,311,312,313]\n",
    "# All other points are in unspecified\n",
    "unspecified = []\n",
    "for i in range(1,401):\n",
    "    if right_femur.count(i) == 0 and left_femur.count(i) == 0 and ctv.count(i) == 0 and rectal_solid.count(i) == 0:\n",
    "        unspecified.append(i)"
   ]
  },
  {
   "cell_type": "markdown",
   "metadata": {},
   "source": [
    "# Constrains for all region:\n",
    "\n",
    "## For the CTV:\n",
    "#### Receive a uniform dose of 82.8.\n",
    "#### With 5% accuracy and consideration of cold and high effect, the range is [79.1, 86.5].\n",
    "\n",
    "## For the Bladder:\n",
    "#### Max dose is 81.\n",
    "#### Average dose should be <= 50.\n",
    "#### At most 10% of bladder should receive > 65.\n",
    "\n",
    "## For the Rectum:\n",
    "#### Max dose is 79.2.\n",
    "#### Average dose should be <= 40.\n",
    "\n",
    "## For the Unspecified:\n",
    "#### Max dose is 72.\n",
    "\n",
    "## For the Left femur head:\n",
    "#### Max dose is 50.\n",
    "#### At most 15% of Left femur head should receive > 40.\n",
    "\n",
    "## For the Right femur head:\n",
    "#### Max dose is 50.\n",
    "#### At most 15% of Left Right head should receive > 40."
   ]
  },
  {
   "cell_type": "code",
   "execution_count": 4,
   "metadata": {},
   "outputs": [
    {
     "data": {
      "text/plain": [
       "(400,)"
      ]
     },
     "execution_count": 4,
     "metadata": {},
     "output_type": "execute_result"
    }
   ],
   "source": [
    "# Don't need the first column because it's the useless index.\n",
    "# Now each column of the dose represents the unit intensity of a beamlet on 400 voxels.\n",
    "dose = DoseMatrix.iloc[:,1:].to_numpy()\n",
    "dose[:,0].shape"
   ]
  },
  {
   "cell_type": "markdown",
   "metadata": {},
   "source": [
    "### Start experiment"
   ]
  },
  {
   "cell_type": "code",
   "execution_count": 5,
   "metadata": {},
   "outputs": [],
   "source": [
    "solver = pywraplp.Solver('Final project',\n",
    "                         pywraplp.Solver.GLOP_LINEAR_PROGRAMMING)\n",
    "objective=solver.Objective()\n",
    "objective.SetMinimization()\n",
    "# Set the variable to control the unit density of each beamlet\n",
    "beam_value = [0 for i in range(60)]\n",
    "# Initialize the variables\n",
    "for i in range(60):\n",
    "    beam_value[i] = solver.IntVar(0, solver.infinity(), str(i))\n"
   ]
  },
  {
   "cell_type": "code",
   "execution_count": 6,
   "metadata": {},
   "outputs": [],
   "source": [
    "# Add the constraints\n",
    "# CTV\n",
    "for index in ctv:\n",
    "    solver.Add(solver.Sum(beam_value[i] * dose[index - 1,i] for i in range(60)) >= 79.1)\n",
    "    solver.Add(solver.Sum(beam_value[i] * dose[index - 1,i] for i in range(60)) <= 86.5)\n",
    "# Unspecified\n",
    "for index in unspecified:\n",
    "    solver.Add(solver.Sum((beam_value[i] * dose[index - 1,i] for i in range(60))) <= 72)\n",
    "# Set the objective\n",
    "solver.Minimize(solver.Sum(beam_value[i] for i in range(60)))"
   ]
  },
  {
   "cell_type": "code",
   "execution_count": 7,
   "metadata": {},
   "outputs": [
    {
     "name": "stdout",
     "output_type": "stream",
     "text": [
      "Solver reaches the optimal solution with objective function = 464.99185271177623\n",
      "Number 1 beam has 14.0 strength\n",
      "Number 2 beam has 19.0 strength\n",
      "Number 3 beam has 0.0 strength\n",
      "Number 4 beam has 0.0 strength\n",
      "Number 5 beam has 7.0 strength\n",
      "Number 6 beam has 2.0 strength\n",
      "Number 7 beam has 0.0 strength\n",
      "Number 8 beam has 0.0 strength\n",
      "Number 9 beam has 0.0 strength\n",
      "Number 10 beam has 0.0 strength\n",
      "==========================\n",
      "Number 11 beam has 0.0 strength\n",
      "Number 12 beam has 0.0 strength\n",
      "Number 13 beam has 0.0 strength\n",
      "Number 14 beam has 0.0 strength\n",
      "Number 15 beam has 13.0 strength\n",
      "Number 16 beam has 17.0 strength\n",
      "Number 17 beam has 0.0 strength\n",
      "Number 18 beam has 46.0 strength\n",
      "Number 19 beam has 29.0 strength\n",
      "Number 20 beam has 0.0 strength\n",
      "==========================\n",
      "Number 21 beam has 0.0 strength\n",
      "Number 22 beam has 25.0 strength\n",
      "Number 23 beam has 47.0 strength\n",
      "Number 24 beam has 0.0 strength\n",
      "Number 25 beam has 32.0 strength\n",
      "Number 26 beam has 0.0 strength\n",
      "Number 27 beam has 0.0 strength\n",
      "Number 28 beam has 0.0 strength\n",
      "Number 29 beam has 0.0 strength\n",
      "Number 30 beam has 0.0 strength\n",
      "==========================\n",
      "Number 31 beam has 0.0 strength\n",
      "Number 32 beam has 9.0 strength\n",
      "Number 33 beam has 0.0 strength\n",
      "Number 34 beam has 0.0 strength\n",
      "Number 35 beam has 0.0 strength\n",
      "Number 36 beam has 0.0 strength\n",
      "Number 37 beam has 0.0 strength\n",
      "Number 38 beam has 0.0 strength\n",
      "Number 39 beam has 0.0 strength\n",
      "Number 40 beam has 3.0 strength\n",
      "==========================\n",
      "Number 41 beam has 0.0 strength\n",
      "Number 42 beam has 0.0 strength\n",
      "Number 43 beam has 0.0 strength\n",
      "Number 44 beam has 0.0 strength\n",
      "Number 45 beam has 39.0 strength\n",
      "Number 46 beam has 3.0 strength\n",
      "Number 47 beam has 19.0 strength\n",
      "Number 48 beam has 50.0 strength\n",
      "Number 49 beam has 0.0 strength\n",
      "Number 50 beam has 0.0 strength\n",
      "==========================\n",
      "Number 51 beam has 0.0 strength\n",
      "Number 52 beam has 0.0 strength\n",
      "Number 53 beam has 46.0 strength\n",
      "Number 54 beam has 0.0 strength\n",
      "Number 55 beam has 38.0 strength\n",
      "Number 56 beam has 0.0 strength\n",
      "Number 57 beam has 0.0 strength\n",
      "Number 58 beam has 0.0 strength\n",
      "Number 59 beam has 0.0 strength\n",
      "Number 60 beam has 0.0 strength\n",
      "==========================\n"
     ]
    }
   ],
   "source": [
    "#run the solver\n",
    "status = solver.Solve()\n",
    "#find the optimal solution by solver\n",
    "if status == solver.OPTIMAL:\n",
    "    print(\"Solver reaches the optimal solution with objective function = \" + str(objective.Value()))\n",
    "    beams = []\n",
    "    for i in range(60):\n",
    "        beams.append(beam_value[i].solution_value())\n",
    "\n",
    "else:\n",
    "    print('Solver cannot find optimal solution')\n",
    "# A feasible solution\n",
    "beams = np.floor(beams)\n",
    "for i in range(6):\n",
    "    for j in range(10):\n",
    "        print(\"Number \" + str(i * 10 + j + 1) + \" beam has \" + str(beams[i * 10 + j]) + \" strength\")\n",
    "    print(\"==========================\")"
   ]
  },
  {
   "cell_type": "code",
   "execution_count": 8,
   "metadata": {},
   "outputs": [],
   "source": [
    "def get_precent(beams, dose, bladder, left_femur, right_femur):\n",
    "    fre_b = []\n",
    "    fre_l = []\n",
    "    fre_r = []\n",
    "    for index in bladder:\n",
    "        if sum(beams[i] * dose[index - 1,i] for i in range(60)) > 65:\n",
    "            fre_b.append(1)\n",
    "        else:\n",
    "            fre_b.append(0)\n",
    "    print(\"The percentage of doses in bladder that over 65 is \" + str(sum(fre_b)/len(fre_b)))\n",
    "    for index in left_femur:\n",
    "        if sum(beams[i] * dose[index - 1,i] for i in range(60)) > 40:\n",
    "            fre_l.append(1)\n",
    "        else:\n",
    "            fre_l.append(0)\n",
    "    print(\"The percentage of doses in left femur that over 40 is \" + str(sum(fre_l)/len(fre_l)))\n",
    "    for index in right_femur:\n",
    "        if sum(beams[i] * dose[index - 1,i] for i in range(60)) > 40:\n",
    "            fre_r.append(1)\n",
    "        else:\n",
    "            fre_r.append(0)\n",
    "    print(\"The percentage of doses in right femur that over 40 is \" + str(sum(fre_r)/len(fre_r)))"
   ]
  },
  {
   "cell_type": "code",
   "execution_count": 9,
   "metadata": {},
   "outputs": [
    {
     "name": "stdout",
     "output_type": "stream",
     "text": [
      "The percentage of doses in bladder that over 65 is 0.23529411764705882\n",
      "The percentage of doses in left femur that over 40 is 0.6785714285714286\n",
      "The percentage of doses in right femur that over 40 is 0.42857142857142855\n"
     ]
    }
   ],
   "source": [
    "get_precent(beams, dose, bladder, left_femur, right_femur)"
   ]
  },
  {
   "cell_type": "markdown",
   "metadata": {},
   "source": [
    "### Further experiment A"
   ]
  },
  {
   "cell_type": "code",
   "execution_count": 10,
   "metadata": {},
   "outputs": [],
   "source": [
    "solver = pywraplp.Solver('Final project',\n",
    "                         pywraplp.Solver.GLOP_LINEAR_PROGRAMMING)\n",
    "objective=solver.Objective()\n",
    "objective.SetMinimization()\n",
    "# Set the variable to control the unit density of each beamlet\n",
    "beam_value = [0 for i in range(60)]\n",
    "# Initialize the variables\n",
    "for i in range(60):\n",
    "    beam_value[i] = solver.IntVar(0, solver.infinity(), str(i))"
   ]
  },
  {
   "cell_type": "code",
   "execution_count": 11,
   "metadata": {},
   "outputs": [],
   "source": [
    "# Add the constraints\n",
    "# CTV\n",
    "for index in ctv:\n",
    "    solver.Add(solver.Sum(beam_value[i] * dose[index - 1,i] for i in range(60)) >= 79.1)\n",
    "    solver.Add(solver.Sum(beam_value[i] * dose[index - 1,i] for i in range(60)) <= 86.5)\n",
    "\n",
    "# Bladder\n",
    "for index in bladder:\n",
    "    solver.Add(solver.Sum((beam_value[i] * dose[index - 1,i] for i in range(60))) <= 81)\n",
    "solver.Add(solver.Sum(solver.Sum(beam_value[i] * dose[index - 1,i] for i in range(60))for index in bladder) / len(bladder) <= 60)\n",
    "\n",
    "# Rectum\n",
    "for index in rectal_solid:\n",
    "    solver.Add(solver.Sum((beam_value[i] * dose[index - 1,i] for i in range(60))) <= 79.2)\n",
    "solver.Add(solver.Sum(solver.Sum(beam_value[i] * dose[index - 1,i] for i in range(60))for index in rectal_solid) / len(rectal_solid) <= 55)\n",
    "\n",
    "# Unspecified\n",
    "for index in unspecified:\n",
    "    solver.Add(solver.Sum((beam_value[i] * dose[index - 1,i] for i in range(60))) <= 75)\n",
    "\n",
    "# Left femur head\n",
    "for index in left_femur:\n",
    "    solver.Add(solver.Sum((beam_value[i] * dose[index - 1,i] for i in range(60))) <= 60)\n",
    "\n",
    "# Right femur head\n",
    "for index in right_femur:\n",
    "    solver.Add(solver.Sum((beam_value[i] * dose[index - 1,i] for i in range(60))) <= 55)\n",
    "\n",
    "# Set the objective\n",
    "solver.Minimize(solver.Sum(beam_value[i] for i in range(60)))"
   ]
  },
  {
   "cell_type": "code",
   "execution_count": 12,
   "metadata": {},
   "outputs": [
    {
     "name": "stdout",
     "output_type": "stream",
     "text": [
      "Solver reaches the optimal solution with objective function = 451.27775018973307\n",
      "Number 1 beam has 0.0 strength\n",
      "Number 2 beam has 26.0 strength\n",
      "Number 3 beam has 0.0 strength\n",
      "Number 4 beam has 0.0 strength\n",
      "Number 5 beam has 7.0 strength\n",
      "Number 6 beam has 0.0 strength\n",
      "Number 7 beam has 0.0 strength\n",
      "Number 8 beam has 0.0 strength\n",
      "Number 9 beam has 0.0 strength\n",
      "Number 10 beam has 23.0 strength\n",
      "==========================\n",
      "Number 11 beam has 0.0 strength\n",
      "Number 12 beam has 0.0 strength\n",
      "Number 13 beam has 0.0 strength\n",
      "Number 14 beam has 0.0 strength\n",
      "Number 15 beam has 0.0 strength\n",
      "Number 16 beam has 26.0 strength\n",
      "Number 17 beam has 0.0 strength\n",
      "Number 18 beam has 52.0 strength\n",
      "Number 19 beam has 10.0 strength\n",
      "Number 20 beam has 0.0 strength\n",
      "==========================\n",
      "Number 21 beam has 0.0 strength\n",
      "Number 22 beam has 9.0 strength\n",
      "Number 23 beam has 55.0 strength\n",
      "Number 24 beam has 0.0 strength\n",
      "Number 25 beam has 28.0 strength\n",
      "Number 26 beam has 0.0 strength\n",
      "Number 27 beam has 0.0 strength\n",
      "Number 28 beam has 0.0 strength\n",
      "Number 29 beam has 0.0 strength\n",
      "Number 30 beam has 0.0 strength\n",
      "==========================\n",
      "Number 31 beam has 0.0 strength\n",
      "Number 32 beam has 8.0 strength\n",
      "Number 33 beam has 0.0 strength\n",
      "Number 34 beam has 0.0 strength\n",
      "Number 35 beam has 18.0 strength\n",
      "Number 36 beam has 1.0 strength\n",
      "Number 37 beam has 0.0 strength\n",
      "Number 38 beam has 0.0 strength\n",
      "Number 39 beam has 22.0 strength\n",
      "Number 40 beam has 0.0 strength\n",
      "==========================\n",
      "Number 41 beam has 0.0 strength\n",
      "Number 42 beam has 0.0 strength\n",
      "Number 43 beam has 0.0 strength\n",
      "Number 44 beam has 0.0 strength\n",
      "Number 45 beam has 0.0 strength\n",
      "Number 46 beam has 40.0 strength\n",
      "Number 47 beam has 7.0 strength\n",
      "Number 48 beam has 34.0 strength\n",
      "Number 49 beam has 0.0 strength\n",
      "Number 50 beam has 0.0 strength\n",
      "==========================\n",
      "Number 51 beam has 0.0 strength\n",
      "Number 52 beam has 0.0 strength\n",
      "Number 53 beam has 31.0 strength\n",
      "Number 54 beam has 10.0 strength\n",
      "Number 55 beam has 35.0 strength\n",
      "Number 56 beam has 0.0 strength\n",
      "Number 57 beam has 0.0 strength\n",
      "Number 58 beam has 0.0 strength\n",
      "Number 59 beam has 0.0 strength\n",
      "Number 60 beam has 0.0 strength\n",
      "==========================\n"
     ]
    }
   ],
   "source": [
    "#run the solver\n",
    "status = solver.Solve()\n",
    "#find the optimal solution by solver\n",
    "if status == solver.OPTIMAL:\n",
    "    print(\"Solver reaches the optimal solution with objective function = \" + str(objective.Value()))\n",
    "    beams = []\n",
    "    for i in range(60):\n",
    "        beams.append(beam_value[i].solution_value())\n",
    "\n",
    "else:\n",
    "    print('Solver cannot find optimal solution')\n",
    "# A feasible solution\n",
    "beams = np.floor(beams)\n",
    "for i in range(6):\n",
    "    for j in range(10):\n",
    "        print(\"Number \" + str(i * 10 + j + 1) + \" beam has \" + str(beams[i * 10 + j]) + \" strength\")\n",
    "    print(\"==========================\")"
   ]
  },
  {
   "cell_type": "code",
   "execution_count": 13,
   "metadata": {},
   "outputs": [
    {
     "name": "stdout",
     "output_type": "stream",
     "text": [
      "The percentage of doses in bladder that over 65 is 0.2647058823529412\n",
      "The percentage of doses in left femur that over 40 is 0.5\n",
      "The percentage of doses in right femur that over 40 is 0.25\n"
     ]
    }
   ],
   "source": [
    "get_precent(beams, dose, bladder, left_femur, right_femur)"
   ]
  },
  {
   "cell_type": "markdown",
   "metadata": {},
   "source": [
    "### Further experiment A imporved"
   ]
  },
  {
   "cell_type": "code",
   "execution_count": 14,
   "metadata": {},
   "outputs": [],
   "source": [
    "solver = pywraplp.Solver('Final project',\n",
    "                         pywraplp.Solver.GLOP_LINEAR_PROGRAMMING)\n",
    "objective=solver.Objective()\n",
    "objective.SetMinimization()\n",
    "# Set the variable to control the unit density of each beamlet\n",
    "beam_value = [0 for i in range(60)]\n",
    "# Initialize the variables\n",
    "for i in range(60):\n",
    "    beam_value[i] = solver.IntVar(0, solver.infinity(), str(i))\n",
    "right_binary = [0 for i in range(len(right_femur))]\n",
    "left_binary = [0 for i in range(len(left_femur))]\n",
    "for i in range(len(right_femur)):\n",
    "    right_binary[i] = solver.IntVar(0, 1, \"right \" + str(i))\n",
    "    left_binary[i] = solver.IntVar(0, 1, \"left \" + str(i))"
   ]
  },
  {
   "cell_type": "code",
   "execution_count": 15,
   "metadata": {},
   "outputs": [],
   "source": [
    "# Add the constraints\n",
    "# CTV\n",
    "for index in ctv:\n",
    "    solver.Add(solver.Sum(beam_value[i] * dose[index - 1,i] for i in range(60)) >= 79.1)\n",
    "    solver.Add(solver.Sum(beam_value[i] * dose[index - 1,i] for i in range(60)) <= 86.5)\n",
    "\n",
    "# # Bladder\n",
    "# for index in bladder:\n",
    "#     solver.Add(solver.Sum((beam_value[i] * dose[index - 1,i] for i in range(60))) <= 81)\n",
    "# solver.Add(solver.Sum(solver.Sum(beam_value[i] * dose[index - 1,i] for i in range(60))for index in bladder) / len(bladder) <= 60)\n",
    "\n",
    "# # Rectum\n",
    "# for index in rectal_solid:\n",
    "#     solver.Add(solver.Sum((beam_value[i] * dose[index - 1,i] for i in range(60))) <= 79.2)\n",
    "# solver.Add(solver.Sum(solver.Sum(beam_value[i] * dose[index - 1,i] for i in range(60))for index in rectal_solid) / len(rectal_solid) <= 55)\n",
    "\n",
    "# # Unspecified\n",
    "# for index in unspecified:\n",
    "#     solver.Add(solver.Sum((beam_value[i] * dose[index - 1,i] for i in range(60))) <= 75)\n",
    "\n",
    "# Left femur head\n",
    "for index in range(len(left_femur)):\n",
    "    solver.Add(solver.Sum((beam_value[i] * dose[left_femur[index] - 1,i] for i in range(60))) <= 60)\n",
    "for index in range(len(left_femur)):\n",
    "    solver.Add(solver.Sum((beam_value[i] * dose[left_femur[index] - 1,i] for i in range(60))) \n",
    "               <= 40 + 10000 * left_binary[index])\n",
    "solver.Add(solver.Sum(left_binary) <= 4)\n",
    "# Right femur head\n",
    "for index in range(len(right_femur)):\n",
    "    solver.Add(solver.Sum((beam_value[i] * dose[right_femur[index] - 1,i] for i in range(60))) <= 55)\n",
    "for index in range(len(right_femur)):\n",
    "    solver.Add(solver.Sum((beam_value[i] * dose[right_femur[index] - 1,i] for i in range(60))) \n",
    "               <= 40 + 10000 * right_binary[index])\n",
    "solver.Add(solver.Sum(right_binary) <= 4)\n",
    "\n",
    "# Set the objective\n",
    "solver.Minimize(solver.Sum(beam_value[i] for i in range(60)))"
   ]
  },
  {
   "cell_type": "code",
   "execution_count": 16,
   "metadata": {},
   "outputs": [
    {
     "name": "stdout",
     "output_type": "stream",
     "text": [
      "Solver reaches the optimal solution with objective function = 446.0822859300855\n",
      "Number 1 beam has 0.0 strength\n",
      "Number 2 beam has 32.0 strength\n",
      "Number 3 beam has 0.0 strength\n",
      "Number 4 beam has 0.0 strength\n",
      "Number 5 beam has 8.0 strength\n",
      "Number 6 beam has 7.0 strength\n",
      "Number 7 beam has 0.0 strength\n",
      "Number 8 beam has 0.0 strength\n",
      "Number 9 beam has 5.0 strength\n",
      "Number 10 beam has 8.0 strength\n",
      "==========================\n",
      "Number 11 beam has 0.0 strength\n",
      "Number 12 beam has 0.0 strength\n",
      "Number 13 beam has 0.0 strength\n",
      "Number 14 beam has 0.0 strength\n",
      "Number 15 beam has 0.0 strength\n",
      "Number 16 beam has 30.0 strength\n",
      "Number 17 beam has 0.0 strength\n",
      "Number 18 beam has 52.0 strength\n",
      "Number 19 beam has 13.0 strength\n",
      "Number 20 beam has 0.0 strength\n",
      "==========================\n",
      "Number 21 beam has 0.0 strength\n",
      "Number 22 beam has 13.0 strength\n",
      "Number 23 beam has 52.0 strength\n",
      "Number 24 beam has 0.0 strength\n",
      "Number 25 beam has 30.0 strength\n",
      "Number 26 beam has 0.0 strength\n",
      "Number 27 beam has 0.0 strength\n",
      "Number 28 beam has 0.0 strength\n",
      "Number 29 beam has 0.0 strength\n",
      "Number 30 beam has 0.0 strength\n",
      "==========================\n",
      "Number 31 beam has 8.0 strength\n",
      "Number 32 beam has 5.0 strength\n",
      "Number 33 beam has 0.0 strength\n",
      "Number 34 beam has 0.0 strength\n",
      "Number 35 beam has 7.0 strength\n",
      "Number 36 beam has 8.0 strength\n",
      "Number 37 beam has 0.0 strength\n",
      "Number 38 beam has 0.0 strength\n",
      "Number 39 beam has 32.0 strength\n",
      "Number 40 beam has 0.0 strength\n",
      "==========================\n",
      "Number 41 beam has 0.0 strength\n",
      "Number 42 beam has 0.0 strength\n",
      "Number 43 beam has 0.0 strength\n",
      "Number 44 beam has 0.0 strength\n",
      "Number 45 beam has 0.0 strength\n",
      "Number 46 beam has 27.0 strength\n",
      "Number 47 beam has 25.0 strength\n",
      "Number 48 beam has 12.0 strength\n",
      "Number 49 beam has 0.0 strength\n",
      "Number 50 beam has 0.0 strength\n",
      "==========================\n",
      "Number 51 beam has 0.0 strength\n",
      "Number 52 beam has 0.0 strength\n",
      "Number 53 beam has 12.0 strength\n",
      "Number 54 beam has 25.0 strength\n",
      "Number 55 beam has 27.0 strength\n",
      "Number 56 beam has 0.0 strength\n",
      "Number 57 beam has 0.0 strength\n",
      "Number 58 beam has 0.0 strength\n",
      "Number 59 beam has 0.0 strength\n",
      "Number 60 beam has 0.0 strength\n",
      "==========================\n"
     ]
    }
   ],
   "source": [
    "#run the solver\n",
    "status = solver.Solve()\n",
    "#find the optimal solution by solver\n",
    "if status == solver.OPTIMAL:\n",
    "    print(\"Solver reaches the optimal solution with objective function = \" + str(objective.Value()))\n",
    "    beams = []\n",
    "    for i in range(60):\n",
    "        beams.append(beam_value[i].solution_value())\n",
    "\n",
    "else:\n",
    "    print('Solver cannot find optimal solution')\n",
    "# A feasible solution\n",
    "beams = np.floor(beams)\n",
    "for i in range(6):\n",
    "    for j in range(10):\n",
    "        print(\"Number \" + str(i * 10 + j + 1) + \" beam has \" + str(beams[i * 10 + j]) + \" strength\")\n",
    "    print(\"==========================\")"
   ]
  },
  {
   "cell_type": "code",
   "execution_count": 17,
   "metadata": {},
   "outputs": [
    {
     "name": "stdout",
     "output_type": "stream",
     "text": [
      "The percentage of doses in bladder that over 65 is 0.3235294117647059\n",
      "The percentage of doses in left femur that over 40 is 0.5357142857142857\n",
      "The percentage of doses in right femur that over 40 is 0.10714285714285714\n"
     ]
    }
   ],
   "source": [
    "get_precent(beams, dose, bladder, left_femur, right_femur)"
   ]
  },
  {
   "cell_type": "markdown",
   "metadata": {},
   "source": [
    "### Alternative method solving percentage problem"
   ]
  },
  {
   "cell_type": "code",
   "execution_count": 92,
   "metadata": {},
   "outputs": [],
   "source": [
    "def run_experiment(beam_list, obj_list, index_right, index_left):\n",
    "    solver = pywraplp.Solver('Final project',\n",
    "                         pywraplp.Solver.GLOP_LINEAR_PROGRAMMING)\n",
    "    objective=solver.Objective()\n",
    "    objective.SetMinimization()\n",
    "    # Set the variable to control the unit density of each beamlet\n",
    "    beam_value = [0 for i in range(60)]\n",
    "    # Initialize the variables\n",
    "    for i in range(60):\n",
    "        beam_value[i] = solver.IntVar(0, solver.infinity(), str(i))\n",
    "\n",
    "    # Add the constraints\n",
    "    # CTV\n",
    "    for index in ctv:\n",
    "        solver.Add(solver.Sum(beam_value[i] * dose[index - 1,i] for i in range(60)) >= 79.1)\n",
    "        solver.Add(solver.Sum(beam_value[i] * dose[index - 1,i] for i in range(60)) <= 86.5)\n",
    "\n",
    "#     # Bladder\n",
    "#     for index in bladder:\n",
    "#         solver.Add(solver.Sum((beam_value[i] * dose[index - 1,i] for i in range(60))) <= 81)\n",
    "#     solver.Add(solver.Sum(solver.Sum(beam_value[i] * dose[index - 1,i] for i in range(60))for index in bladder) / len(bladder) <= 60)\n",
    "\n",
    "#     # Rectum\n",
    "#     for index in rectal_solid:\n",
    "#         solver.Add(solver.Sum((beam_value[i] * dose[index - 1,i] for i in range(60))) <= 79.2)\n",
    "#     solver.Add(solver.Sum(solver.Sum(beam_value[i] * dose[index - 1,i] for i in range(60))for index in rectal_solid) / len(rectal_solid) <= 55)\n",
    "\n",
    "#     # Unspecified\n",
    "#     for index in unspecified:\n",
    "#         solver.Add(solver.Sum((beam_value[i] * dose[index - 1,i] for i in range(60))) <= 75)\n",
    "\n",
    "    # Left femur head\n",
    "    for index in range(len(left_femur)):\n",
    "        solver.Add(solver.Sum((beam_value[i] * dose[left_femur[index] - 1,i] for i in range(60))) <= 60)\n",
    "    for index in index_left:\n",
    "        solver.Add(solver.Sum((beam_value[i] * dose[left_femur[index] - 1,i] for i in range(60))) <= 40)\n",
    "    \n",
    "    # Right femur head\n",
    "    for index in range(len(right_femur)):\n",
    "        solver.Add(solver.Sum((beam_value[i] * dose[right_femur[index] - 1,i] for i in range(60))) <= 55)\n",
    "    for index in index_right:\n",
    "        solver.Add(solver.Sum((beam_value[i] * dose[right_femur[index] - 1,i] for i in range(60))) <= 40)\n",
    "    \n",
    "    # Set the objective\n",
    "    solver.Minimize(solver.Sum(beam_value[i] for i in range(60)))\n",
    "    \n",
    "    #run the solver\n",
    "    status = solver.Solve()\n",
    "    #find the optimal solution by solver\n",
    "    if status == solver.OPTIMAL:\n",
    "        obj_list.append(objective.Value())\n",
    "        beams = []\n",
    "        for i in range(60):\n",
    "            beams.append(np.floor(beam_value[i].solution_value()))\n",
    "        beam_list.append(beams)\n",
    "    return beam_list, obj_list"
   ]
  },
  {
   "cell_type": "code",
   "execution_count": 93,
   "metadata": {},
   "outputs": [],
   "source": [
    "beam_list = []\n",
    "obj_list = []\n",
    "for i in range(100):\n",
    "    length_right_femur = len(right_femur)\n",
    "    length_left_femur = len(left_femur)\n",
    "    index_right = []\n",
    "    index_left = []\n",
    "    for i in range(len(right_femur) - 4):\n",
    "        index_right.append(np.random.randint(length_right_femur))\n",
    "        index_left.append(np.random.randint(length_left_femur))\n",
    "    beam_list, obj_list = run_experiment(beam_list, obj_list, index_right, index_left)\n",
    "    "
   ]
  },
  {
   "cell_type": "code",
   "execution_count": 94,
   "metadata": {},
   "outputs": [
    {
     "data": {
      "text/plain": [
       "[465.01757445791804, 465.01757445792185, 465.01757445790884, 454.8678244044606]"
      ]
     },
     "execution_count": 94,
     "metadata": {},
     "output_type": "execute_result"
    }
   ],
   "source": [
    "obj_list"
   ]
  },
  {
   "cell_type": "code",
   "execution_count": 95,
   "metadata": {},
   "outputs": [
    {
     "name": "stdout",
     "output_type": "stream",
     "text": [
      "Number 1 beam has 0.0 strength\n",
      "Number 2 beam has 33.0 strength\n",
      "Number 3 beam has 16.0 strength\n",
      "Number 4 beam has 0.0 strength\n",
      "Number 5 beam has 3.0 strength\n",
      "Number 6 beam has 30.0 strength\n",
      "Number 7 beam has 0.0 strength\n",
      "Number 8 beam has 0.0 strength\n",
      "Number 9 beam has 31.0 strength\n",
      "Number 10 beam has 13.0 strength\n",
      "==========================\n",
      "Number 11 beam has 0.0 strength\n",
      "Number 12 beam has 0.0 strength\n",
      "Number 13 beam has 0.0 strength\n",
      "Number 14 beam has 0.0 strength\n",
      "Number 15 beam has 0.0 strength\n",
      "Number 16 beam has 0.0 strength\n",
      "Number 17 beam has 0.0 strength\n",
      "Number 18 beam has 27.0 strength\n",
      "Number 19 beam has 25.0 strength\n",
      "Number 20 beam has 0.0 strength\n",
      "==========================\n",
      "Number 21 beam has 0.0 strength\n",
      "Number 22 beam has 21.0 strength\n",
      "Number 23 beam has 32.0 strength\n",
      "Number 24 beam has 0.0 strength\n",
      "Number 25 beam has 0.0 strength\n",
      "Number 26 beam has 0.0 strength\n",
      "Number 27 beam has 0.0 strength\n",
      "Number 28 beam has 0.0 strength\n",
      "Number 29 beam has 0.0 strength\n",
      "Number 30 beam has 0.0 strength\n",
      "==========================\n",
      "Number 31 beam has 0.0 strength\n",
      "Number 32 beam has 15.0 strength\n",
      "Number 33 beam has 0.0 strength\n",
      "Number 34 beam has 14.0 strength\n",
      "Number 35 beam has 15.0 strength\n",
      "Number 36 beam has 22.0 strength\n",
      "Number 37 beam has 0.0 strength\n",
      "Number 38 beam has 14.0 strength\n",
      "Number 39 beam has 42.0 strength\n",
      "Number 40 beam has 0.0 strength\n",
      "==========================\n",
      "Number 41 beam has 0.0 strength\n",
      "Number 42 beam has 0.0 strength\n",
      "Number 43 beam has 0.0 strength\n",
      "Number 44 beam has 0.0 strength\n",
      "Number 45 beam has 15.0 strength\n",
      "Number 46 beam has 1.0 strength\n",
      "Number 47 beam has 28.0 strength\n",
      "Number 48 beam has 0.0 strength\n",
      "Number 49 beam has 0.0 strength\n",
      "Number 50 beam has 0.0 strength\n",
      "==========================\n",
      "Number 51 beam has 0.0 strength\n",
      "Number 52 beam has 0.0 strength\n",
      "Number 53 beam has 0.0 strength\n",
      "Number 54 beam has 29.0 strength\n",
      "Number 55 beam has 0.0 strength\n",
      "Number 56 beam has 19.0 strength\n",
      "Number 57 beam has 0.0 strength\n",
      "Number 58 beam has 0.0 strength\n",
      "Number 59 beam has 0.0 strength\n",
      "Number 60 beam has 0.0 strength\n",
      "==========================\n"
     ]
    }
   ],
   "source": [
    "min_index = obj_list.index(min(obj_list))\n",
    "for i in range(6):\n",
    "    for j in range(10):\n",
    "        print(\"Number \" + str(i * 10 + j + 1) + \" beam has \" + str(beam_list[min_index][i * 10 + j]) + \" strength\")\n",
    "    print(\"==========================\")"
   ]
  },
  {
   "cell_type": "code",
   "execution_count": 96,
   "metadata": {},
   "outputs": [
    {
     "name": "stdout",
     "output_type": "stream",
     "text": [
      "The percentage of doses in bladder that over 65 is 0.6764705882352942\n",
      "The percentage of doses in left femur that over 40 is 0.17857142857142858\n",
      "The percentage of doses in right femur that over 40 is 0.0\n"
     ]
    }
   ],
   "source": [
    "get_precent(beam_list[min_index], dose, bladder, left_femur, right_femur)"
   ]
  },
  {
   "cell_type": "markdown",
   "metadata": {},
   "source": [
    "### Final experiment"
   ]
  },
  {
   "cell_type": "code",
   "execution_count": 235,
   "metadata": {},
   "outputs": [],
   "source": [
    "def run_experiment_final(beam_list, obj_list, index_right, index_left, index_bladder):\n",
    "    solver = pywraplp.Solver('Final project',\n",
    "                         pywraplp.Solver.GLOP_LINEAR_PROGRAMMING)\n",
    "    objective=solver.Objective()\n",
    "    objective.SetMinimization()\n",
    "    # Set the variable to control the unit density of each beamlet\n",
    "    beam_value = [0 for i in range(60)]\n",
    "    # Initialize the variables\n",
    "    for i in range(60):\n",
    "        beam_value[i] = solver.IntVar(0, solver.infinity(), str(i))\n",
    "\n",
    "    # Add the constraints\n",
    "    # CTV\n",
    "    for index in ctv:\n",
    "        solver.Add(solver.Sum(beam_value[i] * dose[index - 1,i] for i in range(60)) >= 79.1)\n",
    "        solver.Add(solver.Sum(beam_value[i] * dose[index - 1,i] for i in range(60)) <= 86.5)\n",
    "\n",
    "#     # Bladder\n",
    "    for index in bladder:\n",
    "        solver.Add(solver.Sum((beam_value[i] * dose[index - 1,i] for i in range(60))) <= 81)\n",
    "    solver.Add(solver.Sum(solver.Sum(beam_value[i] * dose[index - 1,i] \n",
    "                                     for i in range(60))for index in bladder) / len(bladder) <= 65)\n",
    "#     for index in index_bladder:\n",
    "#         solver.Add(solver.Sum((beam_value[i] * dose[bladder[index] - 1,i] for i in range(60))) <= 65)\n",
    "\n",
    "    # Rectum\n",
    "    for index in rectal_solid:\n",
    "        solver.Add(solver.Sum((beam_value[i] * dose[index - 1,i] for i in range(60))) <= 79.2)\n",
    "    solver.Add(solver.Sum(solver.Sum(beam_value[i] * dose[index - 1,i] \n",
    "                                     for i in range(60))for index in rectal_solid) / len(rectal_solid) <= 65)\n",
    "\n",
    "#     # Unspecified\n",
    "#     for index in unspecified:\n",
    "#         solver.Add(solver.Sum((beam_value[i] * dose[index - 1,i] for i in range(60))) <= 80)\n",
    "\n",
    "    # Left femur head\n",
    "    for index in range(len(left_femur)):\n",
    "        solver.Add(solver.Sum((beam_value[i] * dose[left_femur[index] - 1,i] for i in range(60))) <= 60)\n",
    "    for index in index_left:\n",
    "        solver.Add(solver.Sum((beam_value[i] * dose[left_femur[index] - 1,i] for i in range(60))) <= 40)\n",
    "    \n",
    "    # Right femur head\n",
    "    for index in range(len(right_femur)):\n",
    "        solver.Add(solver.Sum((beam_value[i] * dose[right_femur[index] - 1,i] for i in range(60))) <= 55)\n",
    "    for index in index_right:\n",
    "        solver.Add(solver.Sum((beam_value[i] * dose[right_femur[index] - 1,i] for i in range(60))) <= 40)\n",
    "    \n",
    "    # Set the objective\n",
    "    solver.Minimize(solver.Sum(beam_value[i] for i in range(60)))\n",
    "    \n",
    "    #run the solver\n",
    "    status = solver.Solve()\n",
    "    #find the optimal solution by solver\n",
    "    if status == solver.OPTIMAL:\n",
    "        obj_list.append(objective.Value())\n",
    "        beams = []\n",
    "        for i in range(60):\n",
    "            beams.append(np.floor(beam_value[i].solution_value()))\n",
    "        beam_list.append(beams)\n",
    "    return beam_list, obj_list"
   ]
  },
  {
   "cell_type": "code",
   "execution_count": 236,
   "metadata": {},
   "outputs": [],
   "source": [
    "beam_list = []\n",
    "obj_list = []\n",
    "for i in range(100):\n",
    "    length_right_femur = len(right_femur)\n",
    "    length_left_femur = len(left_femur)\n",
    "    length_bladder = len(bladder)\n",
    "    index_right = []\n",
    "    index_left = []\n",
    "    index_bladder = []\n",
    "    for i in range(len(right_femur) - 17):\n",
    "        index_right.append(np.random.randint(length_right_femur))\n",
    "        index_left.append(np.random.randint(length_left_femur))\n",
    "    for i in range(len(bladder) - 20):\n",
    "        index_bladder.append(np.random.randint(length_bladder))\n",
    "    beam_list, obj_list = run_experiment_final(beam_list, obj_list, index_right, index_left, index_bladder)\n",
    "    "
   ]
  },
  {
   "cell_type": "code",
   "execution_count": 237,
   "metadata": {},
   "outputs": [
    {
     "data": {
      "text/plain": [
       "[450.4606115909367,\n",
       " 451.7964108566752,\n",
       " 454.88988454671403,\n",
       " 456.2106041874918,\n",
       " 451.7964108566751,\n",
       " 449.4335986234195,\n",
       " 451.7964108566751,\n",
       " 449.7797933343167,\n",
       " 449.91442922686633,\n",
       " 450.26839363673344,\n",
       " 452.74256674137644,\n",
       " 455.2592259811026,\n",
       " 456.24546340545476]"
      ]
     },
     "execution_count": 237,
     "metadata": {},
     "output_type": "execute_result"
    }
   ],
   "source": [
    "obj_list"
   ]
  },
  {
   "cell_type": "code",
   "execution_count": 238,
   "metadata": {},
   "outputs": [
    {
     "name": "stdout",
     "output_type": "stream",
     "text": [
      "Number 1 beam has 0.0 strength\n",
      "Number 2 beam has 53.0 strength\n",
      "Number 3 beam has 0.0 strength\n",
      "Number 4 beam has 0.0 strength\n",
      "Number 5 beam has 37.0 strength\n",
      "Number 6 beam has 0.0 strength\n",
      "Number 7 beam has 0.0 strength\n",
      "Number 8 beam has 0.0 strength\n",
      "Number 9 beam has 0.0 strength\n",
      "Number 10 beam has 0.0 strength\n",
      "==========================\n",
      "Number 11 beam has 0.0 strength\n",
      "Number 12 beam has 0.0 strength\n",
      "Number 13 beam has 0.0 strength\n",
      "Number 14 beam has 0.0 strength\n",
      "Number 15 beam has 0.0 strength\n",
      "Number 16 beam has 26.0 strength\n",
      "Number 17 beam has 0.0 strength\n",
      "Number 18 beam has 47.0 strength\n",
      "Number 19 beam has 16.0 strength\n",
      "Number 20 beam has 0.0 strength\n",
      "==========================\n",
      "Number 21 beam has 0.0 strength\n",
      "Number 22 beam has 1.0 strength\n",
      "Number 23 beam has 46.0 strength\n",
      "Number 24 beam has 0.0 strength\n",
      "Number 25 beam has 0.0 strength\n",
      "Number 26 beam has 0.0 strength\n",
      "Number 27 beam has 0.0 strength\n",
      "Number 28 beam has 0.0 strength\n",
      "Number 29 beam has 0.0 strength\n",
      "Number 30 beam has 0.0 strength\n",
      "==========================\n",
      "Number 31 beam has 32.0 strength\n",
      "Number 32 beam has 16.0 strength\n",
      "Number 33 beam has 0.0 strength\n",
      "Number 34 beam has 27.0 strength\n",
      "Number 35 beam has 0.0 strength\n",
      "Number 36 beam has 0.0 strength\n",
      "Number 37 beam has 0.0 strength\n",
      "Number 38 beam has 0.0 strength\n",
      "Number 39 beam has 18.0 strength\n",
      "Number 40 beam has 0.0 strength\n",
      "==========================\n",
      "Number 41 beam has 0.0 strength\n",
      "Number 42 beam has 0.0 strength\n",
      "Number 43 beam has 0.0 strength\n",
      "Number 44 beam has 0.0 strength\n",
      "Number 45 beam has 0.0 strength\n",
      "Number 46 beam has 25.0 strength\n",
      "Number 47 beam has 27.0 strength\n",
      "Number 48 beam has 10.0 strength\n",
      "Number 49 beam has 0.0 strength\n",
      "Number 50 beam has 0.0 strength\n",
      "==========================\n",
      "Number 51 beam has 0.0 strength\n",
      "Number 52 beam has 0.0 strength\n",
      "Number 53 beam has 8.0 strength\n",
      "Number 54 beam has 18.0 strength\n",
      "Number 55 beam has 31.0 strength\n",
      "Number 56 beam has 0.0 strength\n",
      "Number 57 beam has 0.0 strength\n",
      "Number 58 beam has 0.0 strength\n",
      "Number 59 beam has 0.0 strength\n",
      "Number 60 beam has 0.0 strength\n",
      "==========================\n"
     ]
    }
   ],
   "source": [
    "min_index = obj_list.index(min(obj_list))\n",
    "for i in range(6):\n",
    "    for j in range(10):\n",
    "        print(\"Number \" + str(i * 10 + j + 1) + \" beam has \" + str(beam_list[min_index][i * 10 + j]) + \" strength\")\n",
    "    print(\"==========================\")"
   ]
  },
  {
   "cell_type": "code",
   "execution_count": 239,
   "metadata": {},
   "outputs": [
    {
     "name": "stdout",
     "output_type": "stream",
     "text": [
      "The percentage of doses in bladder that over 65 is 0.3235294117647059\n",
      "The percentage of doses in left femur that over 40 is 0.32142857142857145\n",
      "The percentage of doses in right femur that over 40 is 0.10714285714285714\n"
     ]
    }
   ],
   "source": [
    "get_precent(beam_list[min_index], dose, bladder, left_femur, right_femur)"
   ]
  },
  {
   "cell_type": "code",
   "execution_count": null,
   "metadata": {},
   "outputs": [],
   "source": []
  }
 ],
 "metadata": {
  "kernelspec": {
   "display_name": "Python 3",
   "language": "python",
   "name": "python3"
  },
  "language_info": {
   "codemirror_mode": {
    "name": "ipython",
    "version": 3
   },
   "file_extension": ".py",
   "mimetype": "text/x-python",
   "name": "python",
   "nbconvert_exporter": "python",
   "pygments_lexer": "ipython3",
   "version": "3.7.3"
  }
 },
 "nbformat": 4,
 "nbformat_minor": 2
}
